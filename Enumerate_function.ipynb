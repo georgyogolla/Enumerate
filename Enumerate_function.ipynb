{
 "cells": [
  {
   "cell_type": "markdown",
   "id": "5ddf18cb",
   "metadata": {},
   "source": [
    "# Enumerate is an inbuilt python function used to iterate over items instead of using loops"
   ]
  },
  {
   "cell_type": "code",
   "execution_count": 2,
   "id": "81da1c73",
   "metadata": {},
   "outputs": [],
   "source": [
    "alphabet = 'abcdefghijklmnopqrstuvwxyz'\n",
    "alpha_list = list(alphabet)\n",
    "#alpha_list"
   ]
  },
  {
   "cell_type": "code",
   "execution_count": 6,
   "id": "144ac9b1",
   "metadata": {
    "scrolled": false
   },
   "outputs": [
    {
     "name": "stdout",
     "output_type": "stream",
     "text": [
      "a\n",
      "b\n",
      "c\n",
      "d\n",
      "e\n",
      "f\n",
      "g\n",
      "h\n",
      "i\n",
      "j\n",
      "k\n",
      "l\n",
      "m\n",
      "n\n",
      "o\n",
      "p\n",
      "q\n",
      "r\n",
      "s\n",
      "t\n",
      "u\n",
      "v\n",
      "w\n",
      "x\n",
      "y\n",
      "z\n"
     ]
    }
   ],
   "source": [
    "# Iteratting using for-loops\n",
    "for char in alpha_list:\n",
    "    print(char)\n"
   ]
  },
  {
   "cell_type": "code",
   "execution_count": 9,
   "id": "7884619c",
   "metadata": {},
   "outputs": [
    {
     "name": "stdout",
     "output_type": "stream",
     "text": [
      "0 a\n",
      "1 b\n",
      "2 c\n",
      "3 d\n",
      "4 e\n",
      "5 f\n",
      "6 g\n",
      "7 h\n",
      "8 i\n",
      "9 j\n",
      "10 k\n",
      "11 l\n",
      "12 m\n",
      "13 n\n",
      "14 o\n",
      "15 p\n",
      "16 q\n",
      "17 r\n",
      "18 s\n",
      "19 t\n",
      "20 u\n",
      "21 v\n",
      "22 w\n",
      "23 x\n",
      "24 y\n",
      "25 z\n"
     ]
    }
   ],
   "source": [
    "for i in range(len(alpha_list)): \n",
    "    print(i,alpha_list[i])"
   ]
  },
  {
   "cell_type": "markdown",
   "id": "3cc24d2c",
   "metadata": {},
   "source": [
    "#### Using the Enumerate function"
   ]
  },
  {
   "cell_type": "code",
   "execution_count": 10,
   "id": "2ba15c03",
   "metadata": {},
   "outputs": [
    {
     "name": "stdout",
     "output_type": "stream",
     "text": [
      "0 a\n",
      "1 b\n",
      "2 c\n",
      "3 d\n",
      "4 e\n",
      "5 f\n",
      "6 g\n",
      "7 h\n",
      "8 i\n",
      "9 j\n",
      "10 k\n",
      "11 l\n",
      "12 m\n",
      "13 n\n",
      "14 o\n",
      "15 p\n",
      "16 q\n",
      "17 r\n",
      "18 s\n",
      "19 t\n",
      "20 u\n",
      "21 v\n",
      "22 w\n",
      "23 x\n",
      "24 y\n",
      "25 z\n"
     ]
    }
   ],
   "source": [
    "for count, item in enumerate(alpha_list):\n",
    "    print(count,item)\n",
    "    "
   ]
  },
  {
   "cell_type": "code",
   "execution_count": 13,
   "id": "b4eba0af",
   "metadata": {},
   "outputs": [
    {
     "name": "stdout",
     "output_type": "stream",
     "text": [
      "10 a\n",
      "11 b\n",
      "12 c\n",
      "13 d\n",
      "14 e\n",
      "15 f\n",
      "16 g\n",
      "17 h\n",
      "18 i\n",
      "19 j\n",
      "20 k\n",
      "21 l\n",
      "22 m\n",
      "23 n\n",
      "24 o\n",
      "25 p\n",
      "26 q\n",
      "27 r\n",
      "28 s\n",
      "29 t\n",
      "30 u\n",
      "31 v\n",
      "32 w\n",
      "33 x\n",
      "34 y\n",
      "35 z\n"
     ]
    }
   ],
   "source": [
    "# specifying the count starting point\n",
    "for count, item in enumerate(alpha_list,start=10):\n",
    "    print(count,item)\n",
    "    "
   ]
  },
  {
   "cell_type": "code",
   "execution_count": null,
   "id": "94b3bcee",
   "metadata": {},
   "outputs": [],
   "source": []
  }
 ],
 "metadata": {
  "kernelspec": {
   "display_name": "Python 3 (ipykernel)",
   "language": "python",
   "name": "python3"
  },
  "language_info": {
   "codemirror_mode": {
    "name": "ipython",
    "version": 3
   },
   "file_extension": ".py",
   "mimetype": "text/x-python",
   "name": "python",
   "nbconvert_exporter": "python",
   "pygments_lexer": "ipython3",
   "version": "3.9.7"
  }
 },
 "nbformat": 4,
 "nbformat_minor": 5
}
